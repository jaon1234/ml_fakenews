{
 "cells": [
  {
   "cell_type": "code",
   "execution_count": 1,
   "metadata": {},
   "outputs": [],
   "source": [
    "import os\n",
    "import re\n",
    "import pandas as pd\n",
    "import numpy as np\n",
    "import seaborn as sns\n",
    "import matplotlib.pyplot as plt"
   ]
  },
  {
   "cell_type": "markdown",
   "metadata": {},
   "source": [
    "第一部分 数据处理\n",
    "1.加载数据"
   ]
  },
  {
   "cell_type": "code",
   "execution_count": 2,
   "metadata": {},
   "outputs": [
    {
     "name": "stdout",
     "output_type": "stream",
     "text": [
      "                                                   news  type\n",
      "0              trump warns of vote flipping on machines     0\n",
      "1     this election is not about trump its about a g...     0\n",
      "2     more on trump populism and how it can be contr...     0\n",
      "3     trump bollywood ad meant to sway indian americ...     0\n",
      "4     dems could be up on charges for inciting trump...     0\n",
      "...                                                 ...   ...\n",
      "3261  donald trump tells guam north korean threat a ...     1\n",
      "3262                  abc news quiz trump golden globes     1\n",
      "3263  cancel it trump says new air force one cost ri...     1\n",
      "3264         trump trade policies easier said than done     1\n",
      "3265  trumps voter fraud belief based on studies whi...     1\n",
      "\n",
      "[3266 rows x 2 columns]\n"
     ]
    }
   ],
   "source": [
    "list_f = []\n",
    "list_r = []\n",
    "labels = []\n",
    "list_a = []\n",
    "list_all = []\n",
    "f = open('clean_fake.txt',\"r\")\n",
    "for line in f.readlines():\n",
    "    list_f.append(line.strip('\\n'))\n",
    "    labels.append(0)\n",
    "f.close()\n",
    "\n",
    "f = open('clean_real.txt',\"r\")\n",
    "for line in f.readlines():\n",
    "    list_r.append(line.strip('\\n'))\n",
    "    labels.append(1)\n",
    "f.close()\n",
    "\n",
    "list_a = list_f +list_r\n",
    "list_all = zip(list_a, labels)\n",
    "df = pd.DataFrame(list_all, columns=['news', 'type'])\n",
    "print(df)"
   ]
  },
  {
   "cell_type": "markdown",
   "metadata": {},
   "source": [
    "2.计算新闻中频数最高的十个词"
   ]
  },
  {
   "cell_type": "code",
   "execution_count": 3,
   "metadata": {},
   "outputs": [
    {
     "name": "stdout",
     "output_type": "stream",
     "text": [
      "假新闻中频数最高的10个单词\n",
      "    words  frequency\n",
      "0   trump       1328\n",
      "1     the        439\n",
      "2      to        409\n",
      "3      in        231\n",
      "4  donald        228\n",
      "5      of        212\n",
      "6     for        205\n",
      "7       a        192\n",
      "8     and        180\n",
      "9      on        166\n",
      " \n",
      "真新闻中频数最高的10个单词\n",
      "    words  frequency\n",
      "0   trump       1744\n",
      "1  donald        829\n",
      "2      to        413\n",
      "3      us        230\n",
      "4  trumps        219\n",
      "5      in        214\n",
      "6      on        205\n",
      "7      of        186\n",
      "8    says        178\n",
      "9     for        174\n",
      " \n",
      "所有新闻中频数最高的10个单词\n",
      "    words  frequency\n",
      "0   trump       3072\n",
      "1  donald       1057\n",
      "2      to        822\n",
      "3     the        612\n",
      "4      in        445\n",
      "5      of        398\n",
      "6     for        379\n",
      "7      on        371\n",
      "8     and        296\n",
      "9       a        285\n"
     ]
    }
   ],
   "source": [
    "from collections import Counter\n",
    "\n",
    "def frequency(l):\n",
    "    lines = []\n",
    "    for i in l:\n",
    "        w=i.split(' ')\n",
    "        lines+=w\n",
    "    #print(lines)\n",
    "    list = Counter(lines).most_common(10)\n",
    "    list_df = pd.DataFrame(list,columns=['words', 'frequency'])\n",
    "    print(list_df)\n",
    "\n",
    "print('假新闻中频数最高的10个单词')\n",
    "fake_fre = frequency(list_f)\n",
    "print(' ')\n",
    "print('真新闻中频数最高的10个单词')\n",
    "real_fre = frequency(list_r)\n",
    "print(' ')\n",
    "print('所有新闻中频数最高的10个单词')\n",
    "all_fre = frequency(list_a)"
   ]
  },
  {
   "cell_type": "markdown",
   "metadata": {},
   "source": [
    "3.生成词向量"
   ]
  },
  {
   "cell_type": "code",
   "execution_count": 4,
   "metadata": {},
   "outputs": [
    {
     "name": "stdout",
     "output_type": "stream",
     "text": [
      "(3266, 5585)\n",
      "[[0. 0. 0. ... 0. 0. 0.]\n",
      " [0. 0. 0. ... 0. 0. 0.]\n",
      " [0. 0. 0. ... 0. 0. 0.]\n",
      " ...\n",
      " [0. 0. 0. ... 0. 0. 0.]\n",
      " [0. 0. 0. ... 0. 0. 0.]\n",
      " [0. 0. 0. ... 0. 0. 0.]]\n"
     ]
    }
   ],
   "source": [
    "from sklearn import feature_extraction\n",
    "from sklearn.feature_extraction.text import TfidfVectorizer\n",
    "from sklearn.feature_extraction.text import ENGLISH_STOP_WORDS\n",
    "from nltk.corpus import stopwords\n",
    "\n",
    "tfidfVecorizer = TfidfVectorizer(stop_words =ENGLISH_STOP_WORDS )\n",
    "X= tfidfVecorizer.fit_transform(df['news'])\n",
    "x_num=X.toarray()\n",
    "print(x_num.shape)\n",
    "print(x_num)\n",
    "feature_words = tfidfVecorizer.get_feature_names()"
   ]
  },
  {
   "cell_type": "markdown",
   "metadata": {},
   "source": [
    "4.划分数据集"
   ]
  },
  {
   "cell_type": "code",
   "execution_count": 5,
   "metadata": {},
   "outputs": [
    {
     "name": "stdout",
     "output_type": "stream",
     "text": [
      "训练集的大小为： (2286, 5585)\n",
      "测试集的大小为： (490, 5585)\n",
      "验证集的大小为： (490, 5585)\n"
     ]
    }
   ],
   "source": [
    "from sklearn.model_selection import train_test_split\n",
    "\n",
    "x_train,x, y_train,y = train_test_split(x_num,labels,test_size=0.3,train_size=0.7,random_state=0,stratify=labels)\n",
    "x_test, x_val, y_test, y_val = train_test_split(x,y,test_size = 0.5,train_size =0.5,random_state=0,stratify=y)\n",
    "\n",
    "print('训练集的大小为：',x_train.shape)\n",
    "print('测试集的大小为：',x_test.shape)\n",
    "print('验证集的大小为：',x_val.shape)"
   ]
  },
  {
   "cell_type": "markdown",
   "metadata": {},
   "source": [
    "第二部分 朴素贝叶斯算法"
   ]
  },
  {
   "cell_type": "code",
   "execution_count": 6,
   "metadata": {},
   "outputs": [],
   "source": [
    "from sklearn import naive_bayes \n",
    "from sklearn.naive_bayes import BernoulliNB\n",
    "from sklearn.model_selection import cross_val_score\n",
    "import sklearn.metrics\n",
    "import random"
   ]
  },
  {
   "cell_type": "markdown",
   "metadata": {},
   "source": [
    "1.使用验证集调参，找到最优的α值"
   ]
  },
  {
   "cell_type": "code",
   "execution_count": 7,
   "metadata": {},
   "outputs": [
    {
     "name": "stdout",
     "output_type": "stream",
     "text": [
      "[0.09039715432237316]\n"
     ]
    }
   ],
   "source": [
    "alpha = [[random.uniform(0,1)] for i in range(1, 30)]\n",
    "cv_scores = []\n",
    "\n",
    "for i in alpha:\n",
    "    clf = BernoulliNB(alpha=i,binarize=0.0, fit_prior=True)\n",
    "    scores = cross_val_score(clf,x_val,y_val,cv =3,scoring = 'accuracy')\n",
    "    cv_scores.append(scores.mean())  \n",
    "    \n",
    "max_index=cv_scores.index(max(cv_scores))\n",
    "best_alpha=alpha[max_index]\n",
    "print(best_alpha)"
   ]
  },
  {
   "cell_type": "markdown",
   "metadata": {},
   "source": [
    "2.在测试集和验证集上的结果"
   ]
  },
  {
   "cell_type": "code",
   "execution_count": 8,
   "metadata": {},
   "outputs": [
    {
     "name": "stdout",
     "output_type": "stream",
     "text": [
      "训练集上的准确率为：\n",
      " 0.9715660542432196\n",
      " \n",
      "训练集上的评估报告：\n",
      "               precision    recall  f1-score   support\n",
      "\n",
      "           0       0.96      0.97      0.96       909\n",
      "           1       0.98      0.98      0.98      1377\n",
      "\n",
      "    accuracy                           0.97      2286\n",
      "   macro avg       0.97      0.97      0.97      2286\n",
      "weighted avg       0.97      0.97      0.97      2286\n",
      "\n",
      " \n",
      "测试集上的准确率为：\n",
      " 0.8612244897959184\n",
      " \n",
      "测试集上的评估报告：\n",
      "               precision    recall  f1-score   support\n",
      "\n",
      "           0       0.84      0.80      0.82       194\n",
      "           1       0.87      0.90      0.89       296\n",
      "\n",
      "    accuracy                           0.86       490\n",
      "   macro avg       0.86      0.85      0.85       490\n",
      "weighted avg       0.86      0.86      0.86       490\n",
      "\n",
      "测试集的混淆矩阵:\n",
      " [[155  39]\n",
      " [ 29 267]]\n"
     ]
    },
    {
     "data": {
      "image/png": "[encoded data removed]",
      "text/plain": [
       "<Figure size 288x288 with 3 Axes>"
      ]
     },
     "metadata": {
      "needs_background": "light"
     },
     "output_type": "display_data"
    }
   ],
   "source": [
    "from sklearn.metrics import confusion_matrix\n",
    "clf_nb = BernoulliNB(alpha=best_alpha,binarize=0.0, fit_prior=True)\n",
    "clf_nb.fit(x_train,y_train)\n",
    "predicted=clf_nb.predict(x_train)\n",
    "prediction=clf_nb.predict(x_test)\n",
    "#混淆矩阵\n",
    "cm = confusion_matrix(y_test, prediction)\n",
    "\n",
    "print('训练集上的准确率为：\\n',sklearn.metrics.accuracy_score(y_train,predicted))\n",
    "print(' ')\n",
    "print('训练集上的评估报告：\\n',sklearn.metrics.classification_report(y_train,predicted))\n",
    "print(' ')\n",
    "print('测试集上的准确率为：\\n',sklearn.metrics.accuracy_score(y_test,prediction))\n",
    "print(' ')\n",
    "print('测试集上的评估报告：\\n',sklearn.metrics.classification_report(y_test,prediction))\n",
    "print(\"测试集的混淆矩阵:\\n\", cm)\n",
    "\n",
    "# 混淆矩阵可视化\n",
    "plt.figure(figsize=(2, 2), dpi=144)\n",
    "ax = plt.gca()  # Get Current Axes\n",
    "ax.spines['right'].set_color('none')  # ax.spines是数据区域的边界\n",
    "ax.spines['top'].set_color('none')\n",
    "ax.spines['bottom'].set_color('none')\n",
    "ax.spines['left'].set_color('none')\n",
    "ax.xaxis.set_ticks_position('none')  # 删除轴上的刻度点\n",
    "ax.yaxis.set_ticks_position('none')\n",
    "ax.set_xticklabels([])\n",
    "ax.set_yticklabels([])\n",
    "plt.matshow(cm, fignum=1, cmap='gray')  # plt.matshow专门用于矩阵可视化\n",
    "plt.colorbar()  # 添加渐变色条\n",
    "plt.show()"
   ]
  },
  {
   "cell_type": "markdown",
   "metadata": {},
   "source": [
    "3.输出新的频数最高的十个单词"
   ]
  },
  {
   "cell_type": "code",
   "execution_count": 9,
   "metadata": {},
   "outputs": [
    {
     "name": "stdout",
     "output_type": "stream",
     "text": [
      "处理后，假新闻标题中频数最高的10个单词\n",
      "['hillary', 'just', 'obama', 'new', 'america', 'victory', 'news', 'win', 'campaign', 'supporters']\n",
      "\n",
      "处理后，真新闻标题中频数最高的10个单词\n",
      "['trumps', 'ban', 'north', 'russia', 'korea', 'white', 'turnbull', 'house', 'deal', 'wall']\n"
     ]
    }
   ],
   "source": [
    "list_0=[]\n",
    "list_1=[]\n",
    "list_0=clf_nb.feature_log_prob_[0]\n",
    "list_1=clf_nb.feature_log_prob_[1]\n",
    "feature_list0=[]\n",
    "feature_list1=[]\n",
    "result_ten_list0=[]\n",
    "result_ten_list1=[]\n",
    "\n",
    "print('处理后，假新闻标题中频数最高的10个单词')\n",
    "feature_list0=sorted(zip(list_0,feature_words),reverse=True)\n",
    "for i,j in feature_list0[2:16]:\n",
    "    result_ten_list0.append(j)\n",
    "result_ten_list0.remove('says')\n",
    "result_ten_list0.remove('clinton')\n",
    "result_ten_list0.remove('election')\n",
    "result_ten_list0.remove('president')\n",
    "print(result_ten_list0)   \n",
    "print('')\n",
    "print('处理后，真新闻标题中频数最高的10个单词')\n",
    "feature_list1=sorted(zip(list_1,feature_words),reverse=True)\n",
    "for i,j in feature_list1[2:16]:\n",
    "    result_ten_list1.append(j)\n",
    "result_ten_list1.remove('says')\n",
    "result_ten_list1.remove('clinton')\n",
    "result_ten_list1.remove('election')\n",
    "result_ten_list1.remove('president')\n",
    "print(result_ten_list1)"
   ]
  },
  {
   "cell_type": "markdown",
   "metadata": {},
   "source": [
    "第三部分 逻辑回归"
   ]
  },
  {
   "cell_type": "markdown",
   "metadata": {},
   "source": [
    "1.生成新的词向量"
   ]
  },
  {
   "cell_type": "code",
   "execution_count": 10,
   "metadata": {},
   "outputs": [],
   "source": [
    "x_num[x_num>0] = 1\n",
    "x_train2,x2, y_train2,y2 = train_test_split(x_num,labels,test_size=0.3,train_size=0.7,random_state=0,stratify=labels)\n",
    "x_test2, x_val2, y_test2, y_val2 = train_test_split(x2,y2,test_size = 0.5,train_size =0.5,random_state=0,stratify=y2)"
   ]
  },
  {
   "cell_type": "markdown",
   "metadata": {},
   "source": [
    "2.找到最优参数C"
   ]
  },
  {
   "cell_type": "code",
   "execution_count": 11,
   "metadata": {},
   "outputs": [
    {
     "name": "stdout",
     "output_type": "stream",
     "text": [
      "Best score: 0.858\n",
      "Best parameters set:\n",
      "\tlr__C: 3\n"
     ]
    }
   ],
   "source": [
    "from sklearn.linear_model import LogisticRegression\n",
    "from sklearn import pipeline\n",
    "from sklearn.model_selection import GridSearchCV\n",
    "\n",
    "lr_model = LogisticRegression(solver='lbfgs') \n",
    "pl = pipeline.Pipeline([('lr', lr_model)])\n",
    "param_grid = {'lr__C': [0.1,0.5,1,1.5,2,2.5,3,3.5,4,4.5,5]}\n",
    "\n",
    "# 网格搜索模型（Grid Search Model）初始化\n",
    "model = GridSearchCV(estimator=pl, param_grid=param_grid, scoring='roc_auc', cv=6)\n",
    "\n",
    "# fit网格搜索模型\n",
    "model.fit(x_val2, y_val2)\n",
    "print(\"Best score: %0.3f\" % model.best_score_)\n",
    "print(\"Best parameters set:\")\n",
    "best_parameters = model.best_estimator_.get_params()\n",
    "for param_name in sorted(param_grid.keys()):\n",
    "    print(\"\\t%s: %r\" % (param_name, best_parameters[param_name]))"
   ]
  },
  {
   "cell_type": "markdown",
   "metadata": {},
   "source": [
    "3.评估模型"
   ]
  },
  {
   "cell_type": "code",
   "execution_count": 12,
   "metadata": {},
   "outputs": [
    {
     "name": "stdout",
     "output_type": "stream",
     "text": [
      "训练集上的正确率：\n",
      "0.9916885389326334\n",
      " \n",
      "训练集上的评估报告：\n",
      "               precision    recall  f1-score   support\n",
      "\n",
      "           0       0.99      0.99      0.99       909\n",
      "           1       0.99      0.99      0.99      1377\n",
      "\n",
      "    accuracy                           0.99      2286\n",
      "   macro avg       0.99      0.99      0.99      2286\n",
      "weighted avg       0.99      0.99      0.99      2286\n",
      "\n",
      " \n",
      "测试集上的正确率：\n",
      "0.8244897959183674\n",
      " \n",
      "测试集上的评估报告：\n",
      "               precision    recall  f1-score   support\n",
      "\n",
      "           0       0.85      0.68      0.75       194\n",
      "           1       0.81      0.92      0.86       296\n",
      "\n",
      "    accuracy                           0.82       490\n",
      "   macro avg       0.83      0.80      0.81       490\n",
      "weighted avg       0.83      0.82      0.82       490\n",
      "\n"
     ]
    }
   ],
   "source": [
    "clf_lr=LogisticRegression(penalty='l2', C=3,solver='liblinear')\n",
    "clf_lr.fit(x_train2,y_train2)\n",
    "predicted2=clf_lr.predict(x_train2)\n",
    "prediction2=clf_lr.predict(x_test2)\n",
    "\n",
    "print(\"训练集上的正确率：\")\n",
    "print(sklearn.metrics.accuracy_score(predicted2, y_train2))\n",
    "print(' ')\n",
    "print('训练集上的评估报告：\\n',sklearn.metrics.classification_report(y_train2,predicted2))\n",
    "print(' ')\n",
    "print(\"测试集上的正确率：\")\n",
    "print(sklearn.metrics.accuracy_score(prediction2, y_test2))\n",
    "print(' ')\n",
    "print('测试集上的评估报告：\\n',sklearn.metrics.classification_report(y_test2,prediction2))"
   ]
  },
  {
   "cell_type": "markdown",
   "metadata": {},
   "source": [
    "4.ROC和AUC"
   ]
  },
  {
   "cell_type": "code",
   "execution_count": 13,
   "metadata": {},
   "outputs": [
    {
     "data": {
      "image/png": "[encoded data removed]",
      "text/plain": [
       "<Figure size 432x288 with 1 Axes>"
      ]
     },
     "metadata": {
      "needs_background": "light"
     },
     "output_type": "display_data"
    }
   ],
   "source": [
    "from sklearn.preprocessing import LabelEncoder\n",
    "\n",
    "class_le = LabelEncoder()\n",
    "y_test_n2 = class_le.fit_transform(y_test2)\n",
    "predictions_pro2 = clf_lr.predict_proba(x_test2)\n",
    "false_positive_rate2, recall2, thresholds2 = sklearn.metrics.roc_curve(y_test_n2,predictions_pro2[:,1])\n",
    "roc_auc2 = sklearn.metrics.auc(false_positive_rate2, recall2)\n",
    "plt.plot(false_positive_rate2, recall2, 'r', label='AUC-latter = % 0.2f' % roc_auc2)\n",
    "\n",
    "y_test_n = class_le.fit_transform(y_test)\n",
    "predictions_pro = clf_lr.predict_proba(x_test)\n",
    "false_positive_rate, recall, thresholds = sklearn.metrics.roc_curve(y_test_n,predictions_pro[:,1])\n",
    "roc_auc = sklearn.metrics.auc(false_positive_rate, recall)\n",
    "plt.plot(false_positive_rate, recall, 'g', label='AUC-former = % 0.2f' % roc_auc)\n",
    "\n",
    "predictions_pro3 = clf_nb.predict_proba(x_test)\n",
    "false_positive_rate3, recall3, thresholds3 = sklearn.metrics.roc_curve(y_test_n,predictions_pro3[:,1])\n",
    "roc_auc3 = sklearn.metrics.auc(false_positive_rate3, recall3)\n",
    "plt.plot(false_positive_rate3, recall3, 'b', label='AUC-nb = % 0.2f' % roc_auc3)\n",
    "\n",
    "plt.title('ROC')\n",
    "plt.legend(loc='lower right')\n",
    "plt.plot([0,1],[0,1],'r--')\n",
    "plt.xlim([0.0, 1.0])\n",
    "plt.ylim([0.0, 1.0])\n",
    "plt.xlabel('False Positive Rate')\n",
    "plt.ylabel('Recall')\n",
    "plt.show()"
   ]
  },
  {
   "cell_type": "markdown",
   "metadata": {},
   "source": [
    "第四部分 决策树"
   ]
  },
  {
   "cell_type": "markdown",
   "metadata": {},
   "source": [
    "1.找到最优参数"
   ]
  },
  {
   "cell_type": "code",
   "execution_count": 14,
   "metadata": {},
   "outputs": [
    {
     "data": {
      "text/plain": [
       "{'criterion': 'gini', 'max_depth': 30}"
      ]
     },
     "execution_count": 14,
     "metadata": {},
     "output_type": "execute_result"
    }
   ],
   "source": [
    "from sklearn.tree import DecisionTreeClassifier\n",
    "from sklearn.metrics import classification_report\n",
    "from sklearn import tree\n",
    "\n",
    "dt_model = DecisionTreeClassifier()\n",
    "param_grid={'criterion':['gini','entropy'],'max_depth':[5,10,15,20,25,30,35,40,45,50]}\n",
    "model2 = GridSearchCV(dt_model, param_grid, cv=6,  scoring='roc_auc')\n",
    "model2.fit(x_val,y_val)  \n",
    "model2.best_params_"
   ]
  },
  {
   "cell_type": "markdown",
   "metadata": {},
   "source": [
    "2.决策树及其结果"
   ]
  },
  {
   "cell_type": "code",
   "execution_count": 15,
   "metadata": {},
   "outputs": [
    {
     "name": "stdout",
     "output_type": "stream",
     "text": [
      "训练集上的正确率：\n",
      "0.9243219597550306\n",
      " \n",
      "训练集上的评估报告：\n",
      "               precision    recall  f1-score   support\n",
      "\n",
      "           0       1.00      0.81      0.90       909\n",
      "           1       0.89      1.00      0.94      1377\n",
      "\n",
      "    accuracy                           0.92      2286\n",
      "   macro avg       0.94      0.91      0.92      2286\n",
      "weighted avg       0.93      0.92      0.92      2286\n",
      "\n",
      " \n",
      "测试集上的正确率：\n",
      "0.7510204081632653\n",
      " \n",
      "测试集上的评估报告：\n",
      "               precision    recall  f1-score   support\n",
      "\n",
      "           0       0.75      0.56      0.64       194\n",
      "           1       0.75      0.88      0.81       296\n",
      "\n",
      "    accuracy                           0.75       490\n",
      "   macro avg       0.75      0.72      0.72       490\n",
      "weighted avg       0.75      0.75      0.74       490\n",
      "\n"
     ]
    }
   ],
   "source": [
    "clf_dt = DecisionTreeClassifier(criterion='gini',max_depth=30)\n",
    "clf_dt.fit(x_train,y_train)\n",
    "predicted3 = clf_dt.predict(x_train)\n",
    "prediction3 = clf_dt.predict(x_test)\n",
    "\n",
    "print(\"训练集上的正确率：\")\n",
    "print(sklearn.metrics.accuracy_score(predicted3, y_train))\n",
    "print(' ')\n",
    "print('训练集上的评估报告：\\n',sklearn.metrics.classification_report(y_train,predicted3))\n",
    "print(' ')\n",
    "print(\"测试集上的正确率：\")\n",
    "print(sklearn.metrics.accuracy_score(prediction3, y_test))\n",
    "print(' ')\n",
    "print('测试集上的评估报告：\\n',sklearn.metrics.classification_report(y_test,prediction3))"
   ]
  },
  {
   "cell_type": "markdown",
   "metadata": {},
   "source": [
    "3.提取并可视化决策树前两层"
   ]
  },
  {
   "cell_type": "code",
   "execution_count": 16,
   "metadata": {
    "scrolled": false
   },
   "outputs": [
    {
     "data": {
      "image/svg+xml": [
       "<?xml version=\"1.0\" encoding=\"UTF-8\" standalone=\"no\"?>\r\n",
       "<!DOCTYPE svg PUBLIC \"-//W3C//DTD SVG 1.1//EN\"\r\n",
       " \"http://www.w3.org/Graphics/SVG/1.1/DTD/svg11.dtd\">\r\n",
       "<!-- Generated by graphviz version 2.38.0 (20140413.2041)\r\n",
       " -->\r\n",
       "<!-- Title: Tree Pages: 1 -->\r\n",
       "<svg width=\"797pt\" height=\"433pt\"\r\n",
       " viewBox=\"0.00 0.00 796.50 433.00\" xmlns=\"http://www.w3.org/2000/svg\" xmlns:xlink=\"http://www.w3.org/1999/xlink\">\r\n",
       "<g id=\"graph0\" class=\"graph\" transform=\"scale(1 1) rotate(0) translate(4 429)\">\r\n",
       "<title>Tree</title>\r\n",
       "<polygon fill=\"white\" stroke=\"none\" points=\"-4,4 -4,-429 792.5,-429 792.5,4 -4,4\"/>\r\n",
       "<!-- 0 -->\r\n",
       "<g id=\"node1\" class=\"node\"><title>0</title>\r\n",
       "<path fill=\"#bcdef6\" stroke=\"black\" d=\"M560,-425C560,-425 446,-425 446,-425 440,-425 434,-419 434,-413 434,-413 434,-354 434,-354 434,-348 440,-342 446,-342 446,-342 560,-342 560,-342 566,-342 572,-348 572,-354 572,-354 572,-413 572,-413 572,-419 566,-425 560,-425\"/>\r\n",
       "<text text-anchor=\"middle\" x=\"503\" y=\"-409.8\" font-family=\"Helvetica,sans-Serif\" font-size=\"14.00\">donald &lt;= 0.113</text>\r\n",
       "<text text-anchor=\"middle\" x=\"503\" y=\"-394.8\" font-family=\"Helvetica,sans-Serif\" font-size=\"14.00\">gini = 0.479</text>\r\n",
       "<text text-anchor=\"middle\" x=\"503\" y=\"-379.8\" font-family=\"Helvetica,sans-Serif\" font-size=\"14.00\">samples = 2286</text>\r\n",
       "<text text-anchor=\"middle\" x=\"503\" y=\"-364.8\" font-family=\"Helvetica,sans-Serif\" font-size=\"14.00\">value = [909, 1377]</text>\r\n",
       "<text text-anchor=\"middle\" x=\"503\" y=\"-349.8\" font-family=\"Helvetica,sans-Serif\" font-size=\"14.00\">class = real</text>\r\n",
       "</g>\r\n",
       "<!-- 1 -->\r\n",
       "<g id=\"node2\" class=\"node\"><title>1</title>\r\n",
       "<path fill=\"#fffefd\" stroke=\"black\" d=\"M454,-306C454,-306 348,-306 348,-306 342,-306 336,-300 336,-294 336,-294 336,-235 336,-235 336,-229 342,-223 348,-223 348,-223 454,-223 454,-223 460,-223 466,-229 466,-235 466,-235 466,-294 466,-294 466,-300 460,-306 454,-306\"/>\r\n",
       "<text text-anchor=\"middle\" x=\"401\" y=\"-290.8\" font-family=\"Helvetica,sans-Serif\" font-size=\"14.00\">trump &lt;= 0.059</text>\r\n",
       "<text text-anchor=\"middle\" x=\"401\" y=\"-275.8\" font-family=\"Helvetica,sans-Serif\" font-size=\"14.00\">gini = 0.5</text>\r\n",
       "<text text-anchor=\"middle\" x=\"401\" y=\"-260.8\" font-family=\"Helvetica,sans-Serif\" font-size=\"14.00\">samples = 1629</text>\r\n",
       "<text text-anchor=\"middle\" x=\"401\" y=\"-245.8\" font-family=\"Helvetica,sans-Serif\" font-size=\"14.00\">value = [819, 810]</text>\r\n",
       "<text text-anchor=\"middle\" x=\"401\" y=\"-230.8\" font-family=\"Helvetica,sans-Serif\" font-size=\"14.00\">class = fake</text>\r\n",
       "</g>\r\n",
       "<!-- 0&#45;&gt;1 -->\r\n",
       "<g id=\"edge1\" class=\"edge\"><title>0&#45;&gt;1</title>\r\n",
       "<path fill=\"none\" stroke=\"black\" d=\"M467.612,-341.907C459.7,-332.832 451.234,-323.121 443.081,-313.769\"/>\r\n",
       "<polygon fill=\"black\" stroke=\"black\" points=\"445.535,-311.259 436.326,-306.021 440.259,-315.859 445.535,-311.259\"/>\r\n",
       "<text text-anchor=\"middle\" x=\"434.618\" y=\"-327.262\" font-family=\"Helvetica,sans-Serif\" font-size=\"14.00\">True</text>\r\n",
       "</g>\r\n",
       "<!-- 8 -->\r\n",
       "<g id=\"node9\" class=\"node\"><title>8</title>\r\n",
       "<path fill=\"#58ade9\" stroke=\"black\" d=\"M654,-306C654,-306 556,-306 556,-306 550,-306 544,-300 544,-294 544,-294 544,-235 544,-235 544,-229 550,-223 556,-223 556,-223 654,-223 654,-223 660,-223 666,-229 666,-235 666,-235 666,-294 666,-294 666,-300 660,-306 654,-306\"/>\r\n",
       "<text text-anchor=\"middle\" x=\"605\" y=\"-290.8\" font-family=\"Helvetica,sans-Serif\" font-size=\"14.00\">voting &lt;= 0.154</text>\r\n",
       "<text text-anchor=\"middle\" x=\"605\" y=\"-275.8\" font-family=\"Helvetica,sans-Serif\" font-size=\"14.00\">gini = 0.236</text>\r\n",
       "<text text-anchor=\"middle\" x=\"605\" y=\"-260.8\" font-family=\"Helvetica,sans-Serif\" font-size=\"14.00\">samples = 657</text>\r\n",
       "<text text-anchor=\"middle\" x=\"605\" y=\"-245.8\" font-family=\"Helvetica,sans-Serif\" font-size=\"14.00\">value = [90, 567]</text>\r\n",
       "<text text-anchor=\"middle\" x=\"605\" y=\"-230.8\" font-family=\"Helvetica,sans-Serif\" font-size=\"14.00\">class = real</text>\r\n",
       "</g>\r\n",
       "<!-- 0&#45;&gt;8 -->\r\n",
       "<g id=\"edge8\" class=\"edge\"><title>0&#45;&gt;8</title>\r\n",
       "<path fill=\"none\" stroke=\"black\" d=\"M538.388,-341.907C546.3,-332.832 554.766,-323.121 562.919,-313.769\"/>\r\n",
       "<polygon fill=\"black\" stroke=\"black\" points=\"565.741,-315.859 569.674,-306.021 560.465,-311.259 565.741,-315.859\"/>\r\n",
       "<text text-anchor=\"middle\" x=\"571.382\" y=\"-327.262\" font-family=\"Helvetica,sans-Serif\" font-size=\"14.00\">False</text>\r\n",
       "</g>\r\n",
       "<!-- 2 -->\r\n",
       "<g id=\"node3\" class=\"node\"><title>2</title>\r\n",
       "<path fill=\"#f0b890\" stroke=\"black\" d=\"M254,-187C254,-187 148,-187 148,-187 142,-187 136,-181 136,-175 136,-175 136,-116 136,-116 136,-110 142,-104 148,-104 148,-104 254,-104 254,-104 260,-104 266,-110 266,-116 266,-116 266,-175 266,-175 266,-181 260,-187 254,-187\"/>\r\n",
       "<text text-anchor=\"middle\" x=\"201\" y=\"-171.8\" font-family=\"Helvetica,sans-Serif\" font-size=\"14.00\">trumps &lt;= 0.168</text>\r\n",
       "<text text-anchor=\"middle\" x=\"201\" y=\"-156.8\" font-family=\"Helvetica,sans-Serif\" font-size=\"14.00\">gini = 0.424</text>\r\n",
       "<text text-anchor=\"middle\" x=\"201\" y=\"-141.8\" font-family=\"Helvetica,sans-Serif\" font-size=\"14.00\">samples = 645</text>\r\n",
       "<text text-anchor=\"middle\" x=\"201\" y=\"-126.8\" font-family=\"Helvetica,sans-Serif\" font-size=\"14.00\">value = [448, 197]</text>\r\n",
       "<text text-anchor=\"middle\" x=\"201\" y=\"-111.8\" font-family=\"Helvetica,sans-Serif\" font-size=\"14.00\">class = fake</text>\r\n",
       "</g>\r\n",
       "<!-- 1&#45;&gt;2 -->\r\n",
       "<g id=\"edge2\" class=\"edge\"><title>1&#45;&gt;2</title>\r\n",
       "<path fill=\"none\" stroke=\"black\" d=\"M335.789,-225.352C316.327,-213.966 294.856,-201.406 274.881,-189.72\"/>\r\n",
       "<polygon fill=\"black\" stroke=\"black\" points=\"276.521,-186.625 266.122,-184.596 272.986,-192.667 276.521,-186.625\"/>\r\n",
       "</g>\r\n",
       "<!-- 5 -->\r\n",
       "<g id=\"node6\" class=\"node\"><title>5</title>\r\n",
       "<path fill=\"#b1d8f5\" stroke=\"black\" d=\"M454,-187C454,-187 348,-187 348,-187 342,-187 336,-181 336,-175 336,-175 336,-116 336,-116 336,-110 342,-104 348,-104 348,-104 454,-104 454,-104 460,-104 466,-110 466,-116 466,-116 466,-175 466,-175 466,-181 460,-187 454,-187\"/>\r\n",
       "<text text-anchor=\"middle\" x=\"401\" y=\"-171.8\" font-family=\"Helvetica,sans-Serif\" font-size=\"14.00\">hillary &lt;= 0.072</text>\r\n",
       "<text text-anchor=\"middle\" x=\"401\" y=\"-156.8\" font-family=\"Helvetica,sans-Serif\" font-size=\"14.00\">gini = 0.47</text>\r\n",
       "<text text-anchor=\"middle\" x=\"401\" y=\"-141.8\" font-family=\"Helvetica,sans-Serif\" font-size=\"14.00\">samples = 984</text>\r\n",
       "<text text-anchor=\"middle\" x=\"401\" y=\"-126.8\" font-family=\"Helvetica,sans-Serif\" font-size=\"14.00\">value = [371, 613]</text>\r\n",
       "<text text-anchor=\"middle\" x=\"401\" y=\"-111.8\" font-family=\"Helvetica,sans-Serif\" font-size=\"14.00\">class = real</text>\r\n",
       "</g>\r\n",
       "<!-- 1&#45;&gt;5 -->\r\n",
       "<g id=\"edge5\" class=\"edge\"><title>1&#45;&gt;5</title>\r\n",
       "<path fill=\"none\" stroke=\"black\" d=\"M401,-222.907C401,-214.649 401,-205.864 401,-197.302\"/>\r\n",
       "<polygon fill=\"black\" stroke=\"black\" points=\"404.5,-197.021 401,-187.021 397.5,-197.021 404.5,-197.021\"/>\r\n",
       "</g>\r\n",
       "<!-- 3 -->\r\n",
       "<g id=\"node4\" class=\"node\"><title>3</title>\r\n",
       "<path fill=\"#eb9f68\" stroke=\"black\" d=\"M118,-68C118,-68 12,-68 12,-68 6,-68 0,-62 0,-56 0,-56 0,-12 0,-12 0,-6 6,-0 12,-0 12,-0 118,-0 118,-0 124,-0 130,-6 130,-12 130,-12 130,-56 130,-56 130,-62 124,-68 118,-68\"/>\r\n",
       "<text text-anchor=\"middle\" x=\"65\" y=\"-52.8\" font-family=\"Helvetica,sans-Serif\" font-size=\"14.00\">gini = 0.308</text>\r\n",
       "<text text-anchor=\"middle\" x=\"65\" y=\"-37.8\" font-family=\"Helvetica,sans-Serif\" font-size=\"14.00\">samples = 552</text>\r\n",
       "<text text-anchor=\"middle\" x=\"65\" y=\"-22.8\" font-family=\"Helvetica,sans-Serif\" font-size=\"14.00\">value = [447, 105]</text>\r\n",
       "<text text-anchor=\"middle\" x=\"65\" y=\"-7.8\" font-family=\"Helvetica,sans-Serif\" font-size=\"14.00\">class = fake</text>\r\n",
       "</g>\r\n",
       "<!-- 2&#45;&gt;3 -->\r\n",
       "<g id=\"edge3\" class=\"edge\"><title>2&#45;&gt;3</title>\r\n",
       "<path fill=\"none\" stroke=\"black\" d=\"M150.359,-103.726C138.577,-94.2406 126.051,-84.1551 114.327,-74.7159\"/>\r\n",
       "<polygon fill=\"black\" stroke=\"black\" points=\"116.343,-71.8448 106.358,-68.2996 111.953,-77.2972 116.343,-71.8448\"/>\r\n",
       "</g>\r\n",
       "<!-- 4 -->\r\n",
       "<g id=\"node5\" class=\"node\"><title>4</title>\r\n",
       "<path fill=\"#3b9ee5\" stroke=\"black\" d=\"M241.5,-68C241.5,-68 160.5,-68 160.5,-68 154.5,-68 148.5,-62 148.5,-56 148.5,-56 148.5,-12 148.5,-12 148.5,-6 154.5,-0 160.5,-0 160.5,-0 241.5,-0 241.5,-0 247.5,-0 253.5,-6 253.5,-12 253.5,-12 253.5,-56 253.5,-56 253.5,-62 247.5,-68 241.5,-68\"/>\r\n",
       "<text text-anchor=\"middle\" x=\"201\" y=\"-52.8\" font-family=\"Helvetica,sans-Serif\" font-size=\"14.00\">gini = 0.021</text>\r\n",
       "<text text-anchor=\"middle\" x=\"201\" y=\"-37.8\" font-family=\"Helvetica,sans-Serif\" font-size=\"14.00\">samples = 93</text>\r\n",
       "<text text-anchor=\"middle\" x=\"201\" y=\"-22.8\" font-family=\"Helvetica,sans-Serif\" font-size=\"14.00\">value = [1, 92]</text>\r\n",
       "<text text-anchor=\"middle\" x=\"201\" y=\"-7.8\" font-family=\"Helvetica,sans-Serif\" font-size=\"14.00\">class = real</text>\r\n",
       "</g>\r\n",
       "<!-- 2&#45;&gt;4 -->\r\n",
       "<g id=\"edge4\" class=\"edge\"><title>2&#45;&gt;4</title>\r\n",
       "<path fill=\"none\" stroke=\"black\" d=\"M201,-103.726C201,-95.5175 201,-86.8595 201,-78.56\"/>\r\n",
       "<polygon fill=\"black\" stroke=\"black\" points=\"204.5,-78.2996 201,-68.2996 197.5,-78.2996 204.5,-78.2996\"/>\r\n",
       "</g>\r\n",
       "<!-- 6 -->\r\n",
       "<g id=\"node7\" class=\"node\"><title>6</title>\r\n",
       "<path fill=\"#a2d1f3\" stroke=\"black\" d=\"M390,-68C390,-68 284,-68 284,-68 278,-68 272,-62 272,-56 272,-56 272,-12 272,-12 272,-6 278,-0 284,-0 284,-0 390,-0 390,-0 396,-0 402,-6 402,-12 402,-12 402,-56 402,-56 402,-62 396,-68 390,-68\"/>\r\n",
       "<text text-anchor=\"middle\" x=\"337\" y=\"-52.8\" font-family=\"Helvetica,sans-Serif\" font-size=\"14.00\">gini = 0.452</text>\r\n",
       "<text text-anchor=\"middle\" x=\"337\" y=\"-37.8\" font-family=\"Helvetica,sans-Serif\" font-size=\"14.00\">samples = 934</text>\r\n",
       "<text text-anchor=\"middle\" x=\"337\" y=\"-22.8\" font-family=\"Helvetica,sans-Serif\" font-size=\"14.00\">value = [323, 611]</text>\r\n",
       "<text text-anchor=\"middle\" x=\"337\" y=\"-7.8\" font-family=\"Helvetica,sans-Serif\" font-size=\"14.00\">class = real</text>\r\n",
       "</g>\r\n",
       "<!-- 5&#45;&gt;6 -->\r\n",
       "<g id=\"edge6\" class=\"edge\"><title>5&#45;&gt;6</title>\r\n",
       "<path fill=\"none\" stroke=\"black\" d=\"M377.169,-103.726C372.104,-95.0615 366.748,-85.8962 361.653,-77.1802\"/>\r\n",
       "<polygon fill=\"black\" stroke=\"black\" points=\"364.531,-75.167 356.463,-68.2996 358.487,-78.6992 364.531,-75.167\"/>\r\n",
       "</g>\r\n",
       "<!-- 7 -->\r\n",
       "<g id=\"node8\" class=\"node\"><title>7</title>\r\n",
       "<path fill=\"#e68641\" stroke=\"black\" d=\"M513.5,-68C513.5,-68 432.5,-68 432.5,-68 426.5,-68 420.5,-62 420.5,-56 420.5,-56 420.5,-12 420.5,-12 420.5,-6 426.5,-0 432.5,-0 432.5,-0 513.5,-0 513.5,-0 519.5,-0 525.5,-6 525.5,-12 525.5,-12 525.5,-56 525.5,-56 525.5,-62 519.5,-68 513.5,-68\"/>\r\n",
       "<text text-anchor=\"middle\" x=\"473\" y=\"-52.8\" font-family=\"Helvetica,sans-Serif\" font-size=\"14.00\">gini = 0.077</text>\r\n",
       "<text text-anchor=\"middle\" x=\"473\" y=\"-37.8\" font-family=\"Helvetica,sans-Serif\" font-size=\"14.00\">samples = 50</text>\r\n",
       "<text text-anchor=\"middle\" x=\"473\" y=\"-22.8\" font-family=\"Helvetica,sans-Serif\" font-size=\"14.00\">value = [48, 2]</text>\r\n",
       "<text text-anchor=\"middle\" x=\"473\" y=\"-7.8\" font-family=\"Helvetica,sans-Serif\" font-size=\"14.00\">class = fake</text>\r\n",
       "</g>\r\n",
       "<!-- 5&#45;&gt;7 -->\r\n",
       "<g id=\"edge7\" class=\"edge\"><title>5&#45;&gt;7</title>\r\n",
       "<path fill=\"none\" stroke=\"black\" d=\"M427.81,-103.726C433.568,-94.9703 439.661,-85.7032 445.446,-76.9051\"/>\r\n",
       "<polygon fill=\"black\" stroke=\"black\" points=\"448.535,-78.5781 451.104,-68.2996 442.686,-74.7322 448.535,-78.5781\"/>\r\n",
       "</g>\r\n",
       "<!-- 9 -->\r\n",
       "<g id=\"node10\" class=\"node\"><title>9</title>\r\n",
       "<path fill=\"#57ace9\" stroke=\"black\" d=\"M661.5,-187C661.5,-187 548.5,-187 548.5,-187 542.5,-187 536.5,-181 536.5,-175 536.5,-175 536.5,-116 536.5,-116 536.5,-110 542.5,-104 548.5,-104 548.5,-104 661.5,-104 661.5,-104 667.5,-104 673.5,-110 673.5,-116 673.5,-116 673.5,-175 673.5,-175 673.5,-181 667.5,-187 661.5,-187\"/>\r\n",
       "<text text-anchor=\"middle\" x=\"605\" y=\"-171.8\" font-family=\"Helvetica,sans-Serif\" font-size=\"14.00\">president &lt;= 0.343</text>\r\n",
       "<text text-anchor=\"middle\" x=\"605\" y=\"-156.8\" font-family=\"Helvetica,sans-Serif\" font-size=\"14.00\">gini = 0.227</text>\r\n",
       "<text text-anchor=\"middle\" x=\"605\" y=\"-141.8\" font-family=\"Helvetica,sans-Serif\" font-size=\"14.00\">samples = 652</text>\r\n",
       "<text text-anchor=\"middle\" x=\"605\" y=\"-126.8\" font-family=\"Helvetica,sans-Serif\" font-size=\"14.00\">value = [85, 567]</text>\r\n",
       "<text text-anchor=\"middle\" x=\"605\" y=\"-111.8\" font-family=\"Helvetica,sans-Serif\" font-size=\"14.00\">class = real</text>\r\n",
       "</g>\r\n",
       "<!-- 8&#45;&gt;9 -->\r\n",
       "<g id=\"edge9\" class=\"edge\"><title>8&#45;&gt;9</title>\r\n",
       "<path fill=\"none\" stroke=\"black\" d=\"M605,-222.907C605,-214.649 605,-205.864 605,-197.302\"/>\r\n",
       "<polygon fill=\"black\" stroke=\"black\" points=\"608.5,-197.021 605,-187.021 601.5,-197.021 608.5,-197.021\"/>\r\n",
       "</g>\r\n",
       "<!-- 12 -->\r\n",
       "<g id=\"node13\" class=\"node\"><title>12</title>\r\n",
       "<path fill=\"#e58139\" stroke=\"black\" d=\"M776.5,-179.5C776.5,-179.5 703.5,-179.5 703.5,-179.5 697.5,-179.5 691.5,-173.5 691.5,-167.5 691.5,-167.5 691.5,-123.5 691.5,-123.5 691.5,-117.5 697.5,-111.5 703.5,-111.5 703.5,-111.5 776.5,-111.5 776.5,-111.5 782.5,-111.5 788.5,-117.5 788.5,-123.5 788.5,-123.5 788.5,-167.5 788.5,-167.5 788.5,-173.5 782.5,-179.5 776.5,-179.5\"/>\r\n",
       "<text text-anchor=\"middle\" x=\"740\" y=\"-164.3\" font-family=\"Helvetica,sans-Serif\" font-size=\"14.00\">gini = 0.0</text>\r\n",
       "<text text-anchor=\"middle\" x=\"740\" y=\"-149.3\" font-family=\"Helvetica,sans-Serif\" font-size=\"14.00\">samples = 5</text>\r\n",
       "<text text-anchor=\"middle\" x=\"740\" y=\"-134.3\" font-family=\"Helvetica,sans-Serif\" font-size=\"14.00\">value = [5, 0]</text>\r\n",
       "<text text-anchor=\"middle\" x=\"740\" y=\"-119.3\" font-family=\"Helvetica,sans-Serif\" font-size=\"14.00\">class = fake</text>\r\n",
       "</g>\r\n",
       "<!-- 8&#45;&gt;12 -->\r\n",
       "<g id=\"edge12\" class=\"edge\"><title>8&#45;&gt;12</title>\r\n",
       "<path fill=\"none\" stroke=\"black\" d=\"M651.838,-222.907C665.461,-211.101 680.327,-198.217 693.904,-186.45\"/>\r\n",
       "<polygon fill=\"black\" stroke=\"black\" points=\"696.466,-188.861 701.73,-179.667 691.881,-183.571 696.466,-188.861\"/>\r\n",
       "</g>\r\n",
       "<!-- 10 -->\r\n",
       "<g id=\"node11\" class=\"node\"><title>10</title>\r\n",
       "<path fill=\"#54abe9\" stroke=\"black\" d=\"M654,-68C654,-68 556,-68 556,-68 550,-68 544,-62 544,-56 544,-56 544,-12 544,-12 544,-6 550,-0 556,-0 556,-0 654,-0 654,-0 660,-0 666,-6 666,-12 666,-12 666,-56 666,-56 666,-62 660,-68 654,-68\"/>\r\n",
       "<text text-anchor=\"middle\" x=\"605\" y=\"-52.8\" font-family=\"Helvetica,sans-Serif\" font-size=\"14.00\">gini = 0.213</text>\r\n",
       "<text text-anchor=\"middle\" x=\"605\" y=\"-37.8\" font-family=\"Helvetica,sans-Serif\" font-size=\"14.00\">samples = 642</text>\r\n",
       "<text text-anchor=\"middle\" x=\"605\" y=\"-22.8\" font-family=\"Helvetica,sans-Serif\" font-size=\"14.00\">value = [78, 564]</text>\r\n",
       "<text text-anchor=\"middle\" x=\"605\" y=\"-7.8\" font-family=\"Helvetica,sans-Serif\" font-size=\"14.00\">class = real</text>\r\n",
       "</g>\r\n",
       "<!-- 9&#45;&gt;10 -->\r\n",
       "<g id=\"edge10\" class=\"edge\"><title>9&#45;&gt;10</title>\r\n",
       "<path fill=\"none\" stroke=\"black\" d=\"M605,-103.726C605,-95.5175 605,-86.8595 605,-78.56\"/>\r\n",
       "<polygon fill=\"black\" stroke=\"black\" points=\"608.5,-78.2996 605,-68.2996 601.5,-78.2996 608.5,-78.2996\"/>\r\n",
       "</g>\r\n",
       "<!-- 11 -->\r\n",
       "<g id=\"node12\" class=\"node\"><title>11</title>\r\n",
       "<path fill=\"#f0b78e\" stroke=\"black\" d=\"M775.5,-68C775.5,-68 696.5,-68 696.5,-68 690.5,-68 684.5,-62 684.5,-56 684.5,-56 684.5,-12 684.5,-12 684.5,-6 690.5,-0 696.5,-0 696.5,-0 775.5,-0 775.5,-0 781.5,-0 787.5,-6 787.5,-12 787.5,-12 787.5,-56 787.5,-56 787.5,-62 781.5,-68 775.5,-68\"/>\r\n",
       "<text text-anchor=\"middle\" x=\"736\" y=\"-52.8\" font-family=\"Helvetica,sans-Serif\" font-size=\"14.00\">gini = 0.42</text>\r\n",
       "<text text-anchor=\"middle\" x=\"736\" y=\"-37.8\" font-family=\"Helvetica,sans-Serif\" font-size=\"14.00\">samples = 10</text>\r\n",
       "<text text-anchor=\"middle\" x=\"736\" y=\"-22.8\" font-family=\"Helvetica,sans-Serif\" font-size=\"14.00\">value = [7, 3]</text>\r\n",
       "<text text-anchor=\"middle\" x=\"736\" y=\"-7.8\" font-family=\"Helvetica,sans-Serif\" font-size=\"14.00\">class = fake</text>\r\n",
       "</g>\r\n",
       "<!-- 9&#45;&gt;11 -->\r\n",
       "<g id=\"edge11\" class=\"edge\"><title>9&#45;&gt;11</title>\r\n",
       "<path fill=\"none\" stroke=\"black\" d=\"M653.78,-103.726C665.128,-94.2406 677.193,-84.1551 688.486,-74.7159\"/>\r\n",
       "<polygon fill=\"black\" stroke=\"black\" points=\"690.734,-77.3984 696.162,-68.2996 686.245,-72.0276 690.734,-77.3984\"/>\r\n",
       "</g>\r\n",
       "</g>\r\n",
       "</svg>\r\n"
      ],
      "text/plain": [
       "<graphviz.files.Source at 0x2003cda53d0>"
      ]
     },
     "execution_count": 16,
     "metadata": {},
     "output_type": "execute_result"
    }
   ],
   "source": [
    "import pydot\n",
    "import pydotplus\n",
    "from sklearn.tree import export_graphviz\n",
    "import graphviz\n",
    "\n",
    "t1=clf_dt.fit(x_train,y_train)\n",
    "with open(\"decision_tree.dot\", 'w') as f:\n",
    "    f = tree.export_graphviz(clf_dt,\n",
    "                             out_file = f,\n",
    "                             feature_names= feature_words,\n",
    "                             class_names=['fake','real'],\n",
    "                             filled=True,\n",
    "                             rounded=True)\n",
    "os.system('dot -Tjpg decision_tree.dot -o decision_tree.jpg')\n",
    "\n",
    "clf_dtg = DecisionTreeClassifier(criterion='gini',max_depth=3)\n",
    "t2=clf_dtg.fit(x_train,y_train)\n",
    "dot_data = tree.export_graphviz(t2,feature_names= feature_words,class_names=['fake','real'],filled=True,rounded=True)\n",
    "graph = graphviz.Source(dot_data)\n",
    "graph\n",
    "\n",
    "#with open(\"tree2.dot\", 'w') as f:\n",
    "#    f = tree.export_graphviz(clf_dt,out_file = f,feature_names= feature_words,class_names=['fake','real'],filled=True,rounded=True)\n",
    "#os.system('dot -Tjpg tree2.dot -o decision_tree.jpg')'''"
   ]
  },
  {
   "cell_type": "code",
   "execution_count": 20,
   "metadata": {},
   "outputs": [],
   "source": [
    "#from sklearn.decomposition import PCA\n",
    "#pca = PCA(n_components=100)\n",
    "#newX = pca.fit_transform(x_train)\n",
    "#print(pca.explained_variance_ratio_)"
   ]
  },
  {
   "cell_type": "markdown",
   "metadata": {},
   "source": [
    "第五部分 其他模型"
   ]
  },
  {
   "cell_type": "markdown",
   "metadata": {},
   "source": [
    "1.被动感知算法"
   ]
  },
  {
   "cell_type": "code",
   "execution_count": 17,
   "metadata": {},
   "outputs": [
    {
     "name": "stdout",
     "output_type": "stream",
     "text": [
      "训练集上的正确率：\n",
      "1.0\n",
      " \n",
      "测试集上的正确率：\n",
      "0.8428571428571429\n"
     ]
    }
   ],
   "source": [
    "from sklearn.linear_model import PassiveAggressiveClassifier\n",
    "clf_pac=PassiveAggressiveClassifier(max_iter=100, random_state=0,tol=1e-3)\n",
    "clf_pac.fit(x_train,y_train)\n",
    "predicted4 = clf_pac.predict(x_train)\n",
    "prediction4 = clf_pac.predict(x_test)\n",
    "\n",
    "print(\"训练集上的正确率：\")\n",
    "print(sklearn.metrics.accuracy_score(predicted4, y_train))\n",
    "print(' ')\n",
    "print(\"测试集上的正确率：\")\n",
    "print(sklearn.metrics.accuracy_score(prediction4, y_test))"
   ]
  },
  {
   "cell_type": "markdown",
   "metadata": {},
   "source": [
    "2.SVM"
   ]
  },
  {
   "cell_type": "code",
   "execution_count": 18,
   "metadata": {},
   "outputs": [
    {
     "name": "stdout",
     "output_type": "stream",
     "text": [
      "训练集上的正确率：\n",
      "0.9934383202099738\n",
      " \n",
      "测试集上的正确率：\n",
      "0.8469387755102041\n"
     ]
    }
   ],
   "source": [
    "from sklearn import svm\n",
    "svm = svm.SVC()\n",
    "svm.fit(x_train,y_train)\n",
    "predicted5 = svm.predict(x_train)\n",
    "prediction5 = svm.predict(x_test)\n",
    "\n",
    "print(\"训练集上的正确率：\")\n",
    "print(sklearn.metrics.accuracy_score(predicted5, y_train))\n",
    "print(' ')\n",
    "print(\"测试集上的正确率：\")\n",
    "print(sklearn.metrics.accuracy_score(prediction5, y_test))"
   ]
  },
  {
   "cell_type": "markdown",
   "metadata": {},
   "source": [
    "3.随机森林"
   ]
  },
  {
   "cell_type": "code",
   "execution_count": 19,
   "metadata": {},
   "outputs": [
    {
     "name": "stdout",
     "output_type": "stream",
     "text": [
      "训练集上的正确率：\n",
      "1.0\n",
      " \n",
      "测试集上的正确率：\n",
      "0.8530612244897959\n"
     ]
    }
   ],
   "source": [
    "from sklearn.ensemble import RandomForestClassifier\n",
    "clf_rf = RandomForestClassifier(n_estimators=300,criterion='gini',max_features=100)\n",
    "clf_rf.fit(x_train,y_train)\n",
    "predicted6 = clf_rf.predict(x_train)\n",
    "prediction6 = clf_rf.predict(x_test)\n",
    "\n",
    "print(\"训练集上的正确率：\")\n",
    "print(sklearn.metrics.accuracy_score(predicted6, y_train))\n",
    "print(' ')\n",
    "print(\"测试集上的正确率：\")\n",
    "print(sklearn.metrics.accuracy_score(prediction6, y_test))"
   ]
  },
  {
   "cell_type": "markdown",
   "metadata": {},
   "source": [
    "4.MLP"
   ]
  },
  {
   "cell_type": "code",
   "execution_count": 21,
   "metadata": {},
   "outputs": [
    {
     "name": "stdout",
     "output_type": "stream",
     "text": [
      "训练集上的正确率：\n",
      "1.0\n",
      " \n",
      "测试集上的正确率：\n",
      "0.8428571428571429\n"
     ]
    }
   ],
   "source": [
    "from sklearn.neural_network import MLPClassifier\n",
    "clf_mlp = MLPClassifier(solver='lbfgs')\n",
    "clf_mlp.fit(x_train,y_train)\n",
    "predicted7 = clf_mlp.predict(x_train)\n",
    "prediction7 = clf_mlp.predict(x_test)\n",
    "\n",
    "print(\"训练集上的正确率：\")\n",
    "print(sklearn.metrics.accuracy_score(predicted7, y_train))\n",
    "print(' ')\n",
    "print(\"测试集上的正确率：\")\n",
    "print(sklearn.metrics.accuracy_score(prediction7, y_test))"
   ]
  }
 ],
 "metadata": {
  "kernelspec": {
   "display_name": "Python 3",
   "language": "python",
   "name": "python3"
  },
  "language_info": {
   "codemirror_mode": {
    "name": "ipython",
    "version": 3
   },
   "file_extension": ".py",
   "mimetype": "text/x-python",
   "name": "python",
   "nbconvert_exporter": "python",
   "pygments_lexer": "ipython3",
   "version": "3.8.3"
  }
 },
 "nbformat": 4,
 "nbformat_minor": 4
}
